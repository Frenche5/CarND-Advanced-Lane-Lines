{
 "cells": [
  {
   "cell_type": "code",
   "execution_count": 8,
   "metadata": {},
   "outputs": [],
   "source": [
    "#import libraries\n",
    "import numpy as np\n",
    "import cv2\n",
    "import matplotlib.pyplot as plt\n",
    "import matplotlib.image as mpimg\n",
    "import glob\n",
    "import os\n",
    "import statistics\n",
    "from moviepy.editor import VideoFileClip\n",
    "%matplotlib inline"
   ]
  },
  {
   "cell_type": "code",
   "execution_count": 9,
   "metadata": {},
   "outputs": [],
   "source": [
    "# Define a class to receive the characteristics of each line detection\n",
    "        \n",
    "        \n",
    "class Line():\n",
    "    def __init__(self):\n",
    "        # was the line detected in the last iteration?\n",
    "        self.detected = False  \n",
    "        # x values of the last n fits of the line\n",
    "        self.recent_xfitted = [] \n",
    "        #average x values of the fitted line over the last n iterations\n",
    "        self.bestx = None     \n",
    "        #polynomial coefficients averaged over the last n iterations\n",
    "        self.best_fit = None  \n",
    "        #polynomial coefficients for the most recent fit\n",
    "        self.current_fit = [np.array([False],dtype=np.int32)]  \n",
    "        #radius of curvature of the line in some units\n",
    "        self.radius_of_curvature = []\n",
    "        #distance in meters of vehicle center from the line\n",
    "        self.line_base_pos = None \n",
    "        #difference in fit coefficients between last and new fits\n",
    "        self.diffs = np.array([0,0,0], dtype='float') \n",
    "        #Polylines detected\n",
    "        self.poly_fitted=[]\n",
    "        #x values for detected line pixels\n",
    "        self.allx = None  \n",
    "        #y values for detected line pixels\n",
    "        self.ally = None  \n",
    "        #counter that detects errors in lines\n",
    "        self.n = 0\n",
    "        #counter of fail detections\n",
    "        self.i = 0  \n",
    "        #one time ejecution f\n",
    "        self.f = 0\n",
    "        #number of index to made means\n",
    "        self.nmean=0\n",
    "        self.rmean=0"
   ]
  },
  {
   "cell_type": "code",
   "execution_count": 62,
   "metadata": {},
   "outputs": [],
   "source": [
    "def camera_calibration(nx=9,ny=6, dir=\"camera_cal/\"):\n",
    "    #3D points in real world space\n",
    "    objpoints=[] \n",
    "    #2D points in image plane\n",
    "    imgpoints=[] \n",
    "    \n",
    "    objp = np.zeros((nx*ny,3), np.float32)\n",
    "    objp[:,:2] = np.mgrid[0:nx,0:ny].T.reshape(-1,2)\n",
    "  \n",
    "    # List the calibration images\n",
    "    os.listdir(dir)\n",
    "    cal_list = os.listdir(dir)  \n",
    "   \n",
    "    \n",
    "    for image_name in cal_list:\n",
    "        import_from = dir + image_name\n",
    "        img = cv2.imread(import_from)\n",
    "        # Convert to grayscale\n",
    "        gray = cv2.cvtColor(img, cv2.COLOR_BGR2GRAY)\n",
    "        \n",
    "        # Find the chessboard corners\n",
    "        ret, corners = cv2.findChessboardCorners(gray, (nx, ny), None)\n",
    "        \n",
    "        # If found, append found corners\n",
    "        if ret == True:\n",
    "            imgpoints.append(corners)\n",
    "            objpoints.append(objp)\n",
    "    ret, mtx, dist, rvecs, tvecs = cv2.calibrateCamera(objpoints, imgpoints, gray.shape[::-1], None, None)\n",
    "    return mtx, dist\n",
    "\n",
    "\n",
    "\n",
    "def corners_unwarp(img, mtx, dist, nx=9, ny=6):\n",
    "    # Pass in your image into this function\n",
    "    # Write code to do the following steps\n",
    "    undist = cv2.undistort(img, mtx, dist, None, mtx)\n",
    "    # Convert undistorted image to grayscale\n",
    "    gray = cv2.cvtColor(undist, cv2.COLOR_BGR2GRAY)\n",
    "   \n",
    "    # 3) Find the chessboard corners4\n",
    "    \n",
    "\n",
    "    ret, corners = cv2.findChessboardCorners(gray, (nx,ny), None)\n",
    "    \n",
    "    \n",
    "    offset = 300 # offset for dst points\n",
    "    \n",
    "    # Grab the image shape\n",
    "    img_size = (gray.shape[1], gray.shape[0])\n",
    "             \n",
    "    # If corners found: \n",
    "            \n",
    "    if ret==True:\n",
    "        src = np.float32([\n",
    "        (289, 659), # bottom left\n",
    "        (574, 462), # top left\n",
    "        (704, 462), # top right\n",
    "        (1009, 659) # bottom right\n",
    "        ])\n",
    "        # Destination points are to be parallel, taken into account the image size\n",
    "        dst = np.float32([\n",
    "        [offset, img_size[1]],             # bottom left\n",
    "        [offset, 0],                       # top left\n",
    "        [img_size[0]-offset, 0],           # top right\n",
    "        [img_size[0]-offset, img_size[1]]  # bottom right\n",
    "        ])\n",
    "        M = cv2.getPerspectiveTransform(src, dst)\n",
    "        M_I = cv2.getPerspectiveTransform(dst, src)\n",
    "    else:\n",
    "        M=0  \n",
    "        M_I=0\n",
    "    return M, M_I\n",
    "\n",
    "def unwarp_image(img,M):\n",
    "    img_size = (img.shape[1], img.shape[0])\n",
    "    warped = cv2.warpPerspective(img, M, img_size, flags=cv2.INTER_LINEAR)\n",
    "    return warped\n",
    "\n",
    "\n",
    "def threshold(img,s_thresh=(30, 255), g_thresh=(170,255),h_thresh=(15,20)):\n",
    "    global frame\n",
    "    \n",
    "    img = np.copy(img)\n",
    "    gray = cv2.cvtColor(img, cv2.COLOR_BGR2GRAY)\n",
    "    # Convert to HLS color space and separate the V channel\n",
    "    hls = cv2.cvtColor(img, cv2.COLOR_RGB2HLS)\n",
    "    h_channel = hls[:,:,0]\n",
    "    s_channel = hls[:,:,2]\n",
    "    \n",
    "    \n",
    "    \n",
    "    # Threshold h channel   \n",
    "    hbinary = np.zeros_like(h_channel)\n",
    "    hbinary[( h_channel >= h_thresh[0]) & ( h_channel <= h_thresh[1])] = 1    \n",
    "    \n",
    "    # Threshold s channel\n",
    "    sbinary = np.zeros_like(s_channel)\n",
    "    sbinary[( s_channel >= s_thresh[0]) & ( s_channel <= s_thresh[1])] = 1\n",
    "   \n",
    "\n",
    "    # Threshol grayscale channel\n",
    "    lgray = np.zeros_like(gray)\n",
    "    lgray[( gray >= g_thresh[0]) & ( gray <= g_thresh[1])] = 1\n",
    "    #eliminar\n",
    "   \n",
    "    # Stack each channel\n",
    "    binary1 = lgray\n",
    "    binary2 = cv2.bitwise_and(hbinary, sbinary)\n",
    "    binary = cv2.bitwise_or(binary1, binary2)\n",
    "    \n",
    "    if((Count.i!=maxfail)or(Count.n!=0)):\n",
    "        linesmask=cv2.bitwise_or( Right_line_param.poly_fitted,Left_line_param.poly_fitted)\n",
    "        binary=cv2.bitwise_and(binary, linesmask)\n",
    "    \n",
    "     \n",
    "        #dir1=\"output_images/thresholded/linemask.jpg\"\n",
    "        #cv2.imwrite(dir1,linesmask)\n",
    "    \n",
    "   \n",
    "    \n",
    "    #d=\"frames/binary_\"+str(frame)+\".jpg\"\n",
    "    #cv2.imwrite(d, binary*255)\n",
    "    #print(d)\n",
    "    #frame=frame+1\n",
    "    return binary\n",
    "   \n",
    "\n",
    "\n",
    "def find_lane_pixels(binary_warped):\n",
    "    \n",
    "    # Take a histogram of the bottom half of the image\n",
    "    \n",
    "    # HYPERPARAMETERS\n",
    "    # Choose the number of sliding windows\n",
    "    nwindows = 10\n",
    "    # Set the width of the windows +/- margin\n",
    "    margin = 100\n",
    "    # Set minimum number of pixels found to recenter window\n",
    "    minpix =20\n",
    "   \n",
    "    \n",
    "    leftx_current=Right_line_param.recent_xfitted\n",
    "    rightx_current=Left_line_param.recent_xfitted\n",
    "    \n",
    "    # Set the maximun of fails bin windows in frames\n",
    "   \n",
    "    window_height = np.int(binary_warped.shape[0]//nwindows)\n",
    "    # Create an output image to draw on and visualize the result\n",
    "    out_img = np.dstack((binary_warped, binary_warped, binary_warped))\n",
    "    # Identify the x and y positions of all nonzero pixels in the image\n",
    "    nonzero = binary_warped.nonzero()\n",
    "    nonzeroy = np.array(nonzero[0])\n",
    "    nonzerox = np.array(nonzero[1])\n",
    "    \n",
    "    if ((Count.i==maxfail)or(Count.n==maxfail)):\n",
    "        \n",
    "        histogram = np.sum(binary_warped[binary_warped.shape[0]//2:,:], axis=0)\n",
    "        \n",
    "        # Find the peak of the left and right halves of the histogram\n",
    "        # These will be the starting point for the left and right lines\n",
    "        midpoint = np.int(histogram.shape[0]//2)\n",
    "        leftx_base = np.argmax(histogram[:midpoint])\n",
    "        rightx_base = np.argmax(histogram[midpoint:]) + midpoint\n",
    "        leftx_current = leftx_base\n",
    "        rightx_current = rightx_base\n",
    "        # Current positions to be updated later for each window in nwindows\n",
    "        Count.i=0\n",
    "        Count.n=0\n",
    "        print(\"reset histrogram\")\n",
    "        \n",
    "   \n",
    "    \n",
    "    # Create empty lists to receive left and right lane pixel indices\n",
    "    left_lane_inds = []\n",
    "    right_lane_inds = []\n",
    "    \n",
    "    # Step through the windows one by one\n",
    "    for window in range(nwindows):\n",
    "        # Identify window boundaries in x and y (and right and left)\n",
    "        win_y_low = binary_warped.shape[0] - (window+1)*window_height\n",
    "        win_y_high = binary_warped.shape[0] - window*window_height\n",
    "        win_xleft_low = leftx_current - margin\n",
    "        win_xleft_high = leftx_current + margin\n",
    "        win_xright_low = rightx_current - margin\n",
    "        win_xright_high = rightx_current + margin\n",
    "        \n",
    "        # Draw the windows on the visualization image\n",
    "        \"\"\"\n",
    "        cv2.rectangle(out_img,(win_xleft_low,win_y_low),\n",
    "        (win_xleft_high,win_y_high),(0,255,0), 2) \n",
    "        cv2.rectangle(out_img,(win_xright_low,win_y_low),\n",
    "        (win_xright_high,win_y_high),(0,255,0), 2) \n",
    "        \"\"\"\n",
    "        # Identify the nonzero pixels in x and y within the window #\n",
    "        good_left_inds = ((nonzeroy >= win_y_low) & (nonzeroy < win_y_high) & \n",
    "        (nonzerox >= win_xleft_low) &  (nonzerox < win_xleft_high)).nonzero()[0]\n",
    "        good_right_inds = ((nonzeroy >= win_y_low) & (nonzeroy < win_y_high) & \n",
    "        (nonzerox >= win_xright_low) &  (nonzerox < win_xright_high)).nonzero()[0]\n",
    "        \n",
    "        # Append these indices to the lists\n",
    "        left_lane_inds.append(good_left_inds)\n",
    "        right_lane_inds.append(good_right_inds)\n",
    "              \n",
    "        \n",
    "              \n",
    "        # If you found > minpix pixels, recenter next window on their mean position.\n",
    "        #I make a system of points that analize the quality of the lines, and reset the histogram if que quality is bad\n",
    "        try:\n",
    "            if (len(good_left_inds) > minpix):\n",
    "               \n",
    "                leftx_current = np.int(np.mean(nonzerox[good_left_inds]))\n",
    "                \n",
    "                if Count.i>0:\n",
    "                    Count.i=Count.i-1\n",
    "                else:\n",
    "                    Count.i=0                              \n",
    "                \n",
    "            else:\n",
    "                if Count.i<=maxfail:\n",
    "                    Count.i=Count.i+1\n",
    "                else:\n",
    "                    Count.i=maxfail\n",
    "               \n",
    "        except ValueError:\n",
    "            pass \n",
    "                \n",
    "           \n",
    "        try:\n",
    "            if (len(good_right_inds) > minpix):\n",
    "                \n",
    "                rightx_current = np.int(np.mean(nonzerox[good_right_inds]))\n",
    "                if Count.i>0:\n",
    "                    Count.i=Count.i-1\n",
    "                else:\n",
    "                    Count.i=0                              \n",
    "                \n",
    "            else:\n",
    "                if Count.i<=maxfail:\n",
    "                    Count.i=Count.i+1\n",
    "                else:\n",
    "                    Count.i=maxfail                   \n",
    "              \n",
    "                    \n",
    "            if (np.absolute(leftx_current-rightx_current)<200):\n",
    "            \n",
    "                             \n",
    "                if Count.n<=maxfail:\n",
    "                    Count.n=Count.i+1\n",
    "                else:\n",
    "                    Count.n=maxfail\n",
    "            else:\n",
    "                if Count.n>0:\n",
    "                    Count.n=Count.n-1\n",
    "                else:\n",
    "                    Count.n=0\n",
    "        except ValueError:\n",
    "            pass \n",
    "            \n",
    "    # Concatenate the arrays of indices (previously was a list of lists of pixels)\n",
    "   \n",
    "    try:\n",
    "        left_lane_inds = np.concatenate(left_lane_inds)\n",
    "        right_lane_inds = np.concatenate(right_lane_inds)\n",
    "    except ValueError:\n",
    "        # Avoids an error if the above is not implemented fully\n",
    "        pass\n",
    "     \n",
    "    # Extract left and right line pixel positions    \n",
    "    leftx = nonzerox[left_lane_inds]\n",
    "    lefty = nonzeroy[left_lane_inds] \n",
    "    \n",
    "    #avoid empty values\n",
    "    if len(leftx)==0 or len(lefty)==0:\n",
    "        leftx=Left_line_param.allx\n",
    "        lefty=Left_line_param.ally\n",
    "        \n",
    "    Left_line_param.allx =leftx\n",
    "    Left_line_param.ally =lefty\n",
    "    \n",
    "    rightx = nonzerox[right_lane_inds]\n",
    "    righty = nonzeroy[right_lane_inds]\n",
    "    #avoid empty values\n",
    "    if len(rightx)==0 or len(righty)==0:\n",
    "        rightx=Right_line_param.allx\n",
    "        righty=Right_line_param.ally\n",
    "    \n",
    "    Right_line_param.allx =rightx\n",
    "    Right_line_param.ally =righty\n",
    "    Right_line_param.recent_xfitted=leftx_current\n",
    "    Left_line_param.recent_xfitted=rightx_current\n",
    "    return leftx, lefty, rightx, righty, out_img\n",
    "\n",
    "\n",
    "def fit_polynomial(binary_warped):\n",
    "    global left_curverad\n",
    "    global right_curverad\n",
    "    global offset\n",
    "    global lmean\n",
    "    global rmean\n",
    "    #define the number of frames to make the line mean\n",
    "    n_itera=4\n",
    "   \n",
    "    \n",
    "   \n",
    "    # Find our lane pixels first\n",
    "    leftx, lefty, rightx, righty, out_img = find_lane_pixels(binary_warped)\n",
    "    try:\n",
    "    # Fit a second order polynomial to each using `np.polyfit`\n",
    "    \n",
    "        left_fit = np.polyfit(lefty, leftx, 2)\n",
    "        right_fit = np.polyfit(righty, rightx, 2)\n",
    "    except ValueError:\n",
    "            pass\n",
    "    # Generate x and y values for plotting\n",
    "    ploty = np.linspace(0, binary_warped.shape[0]-1, binary_warped.shape[0] )\n",
    "    try:\n",
    "        left_fitx = left_fit[0]*ploty**2 + left_fit[1]*ploty + left_fit[2]\n",
    "        right_fitx = right_fit[0]*ploty**2 + right_fit[1]*ploty + right_fit[2]\n",
    "    except TypeError:\n",
    "        # Avoids an error if `left` and `right_fit` are still none or incorrect\n",
    "        print('The function failed to fit a line!')\n",
    "        left_fitx = 1*ploty**2 + 1*ploty\n",
    "        right_fitx = 1*ploty**2 + 1*ploty\n",
    "\n",
    "    ## Visualization ##\n",
    "    # Colors in the left and right lane regions\n",
    "    out_img[lefty, leftx] = [255, 0, 0]\n",
    "    out_img[righty, rightx] = [0, 0, 255]\n",
    "    \n",
    "    # Plots the left and right polynomials on the lane lines\n",
    "    #plt.plot(left_fitx, ploty, color='yellow')\n",
    "    #plt.plot(right_fitx, ploty, color='yellow')\n",
    "    \n",
    "    warp_zero = np.zeros_like(binary_warped).astype(np.uint8)\n",
    "    color_warp = np.dstack((warp_zero, warp_zero, warp_zero))\n",
    "\n",
    "    # Recast the x and y points into usable format for cv2.fillPoly()\n",
    "       \n",
    "    \n",
    "    \n",
    "    \n",
    "    #Calculate acumulative mean\n",
    "   \n",
    "    a=left_fitx\n",
    "    b=lmean\n",
    "    partial_lmean = [statistics.mean(k) for k in zip(a,b)]\n",
    "\n",
    "    a=right_fitx\n",
    "    b=rmean\n",
    "    partial_rmean = [statistics.mean(k) for k in zip(a,b)]\n",
    "         \n",
    "    \n",
    "    if Count.nmean==0:\n",
    "        lmean=partial_lmean\n",
    "        rmean=partial_rmean\n",
    "        Count.nmean= n_itera\n",
    "    else:            \n",
    "        Count.nmean=Count.nmean-1\n",
    "   # Recast the x and y points into usable format for cv2.fillPoly()\n",
    "\n",
    "    pts_left = np.array([np.transpose(np.vstack([lmean, ploty]))])\n",
    "    \n",
    "    pts_right = np.array([np.flipud(np.transpose(np.vstack([rmean, ploty])))])\n",
    "   \n",
    "\n",
    "    pts = np.hstack((pts_left, pts_right))\n",
    " \n",
    "    # Draw the lane onto the warped blank image\n",
    "    cv2.fillPoly(color_warp, np.int_([pts]), (0,255,0))\n",
    "    \n",
    "    out_img=mix_images (color_warp, out_img, mix=0.8)\n",
    "    \n",
    "    # Draw the polylines into a zeros image, to make a mask in next frame\n",
    "    \n",
    "    offset=70\n",
    "    \n",
    "    #Define a zeros image of left line with dimensions of binary wrapped\n",
    "    Left_line_param.poly_fitted=np.zeros_like(binary_warped)\n",
    "    \n",
    "    #Define 2 lines with a positive and negative offset in x\n",
    "    pts_left_offset1=((pts_left-(offset,0)))\n",
    "    pts_left_offset2=np.fliplr((pts_left+offset))\n",
    "    pts_left_thickness=np.hstack((pts_left_offset1,pts_left_offset2))\n",
    "    \n",
    "    #Define a zeros image of right line with dimensions of binary wrapped    \n",
    "    Right_line_param.poly_fitted=np.zeros_like(binary_warped)\n",
    "    \n",
    "    #Define 2 lines with a positive and negative offset in x\n",
    "    pts_right_offset1=((pts_right-(offset,0)))\n",
    "    pts_right_offset2=np.fliplr((pts_right+offset))\n",
    "    pts_right_thickness=np.hstack((pts_right_offset1,pts_right_offset2))\n",
    "    \n",
    "    #print lines over zeros images\n",
    "    cv2.fillPoly(Left_line_param.poly_fitted, np.int_([pts_left_thickness]), (255))\n",
    "    cv2.fillPoly(Right_line_param.poly_fitted, np.int_([pts_right_thickness]), (255))\n",
    "    \n",
    "    \n",
    "   \n",
    "    left_curverad, right_curverad=measure_curvature(binary_warped, left_fitx, right_fitx, ploty)\n",
    "    \n",
    "    if Count.rmean<=50:\n",
    "        Count.rmean= Count.rmean+1\n",
    "        Left_line_param.radius_of_curvature.append(left_curverad)\n",
    "        Right_line_param.radius_of_curvature.append(right_curverad)\n",
    "    else:            \n",
    "        Count.rmean=Count.rmean-1\n",
    "        Left_line_param.radius_of_curvature.pop(0)\n",
    "        Right_line_param.radius_of_curvature.pop(0)\n",
    "    \n",
    "         \n",
    "      \n",
    "    left_curverad=np.mean(Left_line_param.radius_of_curvature)\n",
    "    \n",
    "    right_curverad=np.mean(Right_line_param.radius_of_curvature)\n",
    "        \n",
    "    offset=measure_offset(binary_warped, left_fit, right_fit)\n",
    "  \n",
    "    return out_img\n",
    "    \n",
    "def mix_images (img1, img2, mix=0.8):\n",
    "    #mix 2 images\n",
    "    weighted = cv2.addWeighted(img1,mix,img2, 1, 1)\n",
    "    return weighted\n",
    "\n",
    "def process (img):\n",
    "    global M, M_I\n",
    "    global mtx, dist\n",
    "    if  Count.f==0:\n",
    "        #calibrate image\n",
    "        mtx, dist=camera_calibration()\n",
    "        cal_img= cv2.imread('camera_Cal/calibration3.jpg')\n",
    "        M,M_I = corners_unwarp(cal_img, mtx, dist)\n",
    "       \n",
    "        Count.f=1\n",
    "        \n",
    "    if  Count.f==1:\n",
    "        dst = cv2.undistort(img, mtx, dist, None, mtx)\n",
    "        warped=unwarp_image(dst, M)\n",
    "\n",
    "        thresolded_img=threshold(warped)\n",
    "       \n",
    "        out_img = fit_polynomial(thresolded_img)\n",
    "\n",
    "        unwrapped=unwarp_image(out_img,M_I)\n",
    "        #print curvature in image\n",
    "        cv2.putText(unwrapped,'Curve Radius: '+str((left_curverad+right_curverad)/2)[:7]+'m',(40,70), cv2.FONT_HERSHEY_PLAIN, 1.6, (255,255,255),2,cv2.LINE_AA)\n",
    "       \n",
    "        #set the color of the text from red to green depending on the offset distance\n",
    "        red=255*offset*2/1.5\n",
    "        green=255-red\n",
    "        #print center offset in image\n",
    "        cv2.putText(unwrapped,'Center Offset: '+str(offset)[:7]+'m',(40,110), cv2.FONT_HERSHEY_PLAIN, 1.6,(red,green,0),2,cv2.LINE_AA)\n",
    "    \n",
    "        mixed_img=mix_images (img, unwrapped, mix=0.8)\n",
    "       \n",
    "        \n",
    "    return mixed_img\n",
    "\n",
    "\n",
    "def measure_curvature(binary_warped, left_fitx, right_fitx, ploty):\n",
    "    # Define conversions in x and y from pixels space to meters\n",
    "    ym_per_pix = 30/720 # meters per pixel in y dimension\n",
    "    xm_per_pix = 3.5/775 # meters per pixel in x dimension\n",
    "    \n",
    "    left_fit_cr = np.polyfit(ploty*ym_per_pix, left_fitx*xm_per_pix, 2)\n",
    "    right_fit_cr = np.polyfit(ploty*ym_per_pix, right_fitx*xm_per_pix, 2)\n",
    "    # Define y-value where we want radius of curvature\n",
    "    # We'll choose the maximum y-value, corresponding to the bottom of the image\n",
    "    y_eval = np.max(ploty)\n",
    "    \n",
    "    # Calculation of R_curve\n",
    "    left_curverad = ((1 + (2*left_fit_cr[0]*y_eval*ym_per_pix + left_fit_cr[1])**2)**1.5) / np.absolute(2*left_fit_cr[0])\n",
    "    right_curverad = ((1 + (2*right_fit_cr[0]*y_eval*ym_per_pix + right_fit_cr[1])**2)**1.5) / np.absolute(2*right_fit_cr[0])\n",
    "    \n",
    "    return left_curverad, right_curverad\n",
    "\n",
    "def measure_offset(binary_warped, left_fit, right_fit):\n",
    "    # Define conversion in x from pixels space to meters\n",
    "    xm_per_pix = 3.5/775 # meters per pixel (based on europe road with)\n",
    "    # Choose the y value corresponding to the bottom of the image\n",
    "    y_max = binary_warped.shape[0]\n",
    "    # Calculate left and right line positions at the bottom of the image\n",
    "    left_x_pos = left_fit[0]*y_max**2 + left_fit[1]*y_max + left_fit[2]\n",
    "    right_x_pos = right_fit[0]*y_max**2 + right_fit[1]*y_max + right_fit[2] \n",
    "    # Calculate the x position of the center of the lane \n",
    "    center_lanes_x_pos = (left_x_pos + right_x_pos)//2\n",
    "    # Calculate the deviation between the center of the lane and the center of the picture\n",
    "    offset = ((binary_warped.shape[1]//2) - center_lanes_x_pos) * xm_per_pix \n",
    "    return offset\n",
    "\n",
    "    "
   ]
  },
  {
   "cell_type": "code",
   "execution_count": 63,
   "metadata": {
    "scrolled": true
   },
   "outputs": [
    {
     "name": "stderr",
     "output_type": "stream",
     "text": [
      "\r",
      "t:   0%|                                                                             | 0/485 [00:00<?, ?it/s, now=None]"
     ]
    },
    {
     "name": "stdout",
     "output_type": "stream",
     "text": [
      "reset histrogram\n",
      "Moviepy - Building video test_videos_output/challenge_out.mp4.\n",
      "Moviepy - Writing video test_videos_output/challenge_out.mp4\n",
      "\n"
     ]
    },
    {
     "name": "stderr",
     "output_type": "stream",
     "text": [
      "t:   7%|████▊                                                               | 34/485 [00:05<01:25,  5.30it/s, now=None]"
     ]
    },
    {
     "name": "stdout",
     "output_type": "stream",
     "text": [
      "reset histrogram\n"
     ]
    },
    {
     "name": "stderr",
     "output_type": "stream",
     "text": [
      "\r",
      "t:   7%|████▉                                                               | 35/485 [00:05<01:28,  5.08it/s, now=None]"
     ]
    },
    {
     "name": "stdout",
     "output_type": "stream",
     "text": [
      "reset histrogram\n",
      "reset histrogram"
     ]
    },
    {
     "name": "stderr",
     "output_type": "stream",
     "text": [
      "\r",
      "t:   7%|█████                                                               | 36/485 [00:05<01:25,  5.24it/s, now=None]"
     ]
    },
    {
     "name": "stdout",
     "output_type": "stream",
     "text": [
      "\n"
     ]
    },
    {
     "name": "stderr",
     "output_type": "stream",
     "text": [
      "t:  10%|██████▊                                                             | 49/485 [00:08<01:21,  5.37it/s, now=None]"
     ]
    },
    {
     "name": "stdout",
     "output_type": "stream",
     "text": [
      "reset histrogram\n",
      "reset histrogram"
     ]
    },
    {
     "name": "stderr",
     "output_type": "stream",
     "text": [
      "\r",
      "t:  10%|███████                                                             | 50/485 [00:08<01:21,  5.34it/s, now=None]"
     ]
    },
    {
     "name": "stdout",
     "output_type": "stream",
     "text": [
      "\n"
     ]
    },
    {
     "name": "stderr",
     "output_type": "stream",
     "text": [
      "t:  20%|█████████████▉                                                      | 99/485 [00:17<01:05,  5.91it/s, now=None]"
     ]
    },
    {
     "name": "stdout",
     "output_type": "stream",
     "text": [
      "reset histrogram\n",
      "reset histrogram\n"
     ]
    },
    {
     "name": "stderr",
     "output_type": "stream",
     "text": [
      "t:  21%|█████████████▉                                                     | 101/485 [00:17<01:01,  6.26it/s, now=None]"
     ]
    },
    {
     "name": "stdout",
     "output_type": "stream",
     "text": [
      "reset histrogram\n",
      "reset histrogram\n"
     ]
    },
    {
     "name": "stderr",
     "output_type": "stream",
     "text": [
      "t:  21%|██████████████▏                                                    | 103/485 [00:17<01:01,  6.16it/s, now=None]"
     ]
    },
    {
     "name": "stdout",
     "output_type": "stream",
     "text": [
      "reset histrogram\n",
      "reset histrogram\n"
     ]
    },
    {
     "name": "stderr",
     "output_type": "stream",
     "text": [
      "t:  22%|██████████████▌                                                    | 105/485 [00:17<01:01,  6.19it/s, now=None]"
     ]
    },
    {
     "name": "stdout",
     "output_type": "stream",
     "text": [
      "reset histrogram\n",
      "reset histrogram\n"
     ]
    },
    {
     "name": "stderr",
     "output_type": "stream",
     "text": [
      "t:  22%|██████████████▊                                                    | 107/485 [00:18<01:00,  6.27it/s, now=None]"
     ]
    },
    {
     "name": "stdout",
     "output_type": "stream",
     "text": [
      "reset histrogram\n",
      "reset histrogram\n"
     ]
    },
    {
     "name": "stderr",
     "output_type": "stream",
     "text": [
      "t:  22%|███████████████                                                    | 109/485 [00:18<01:00,  6.26it/s, now=None]"
     ]
    },
    {
     "name": "stdout",
     "output_type": "stream",
     "text": [
      "reset histrogram\n",
      "reset histrogram"
     ]
    },
    {
     "name": "stderr",
     "output_type": "stream",
     "text": [
      "\r",
      "t:  23%|███████████████▏                                                   | 110/485 [00:18<01:02,  5.95it/s, now=None]"
     ]
    },
    {
     "name": "stdout",
     "output_type": "stream",
     "text": [
      "\n",
      "reset histrogram"
     ]
    },
    {
     "name": "stderr",
     "output_type": "stream",
     "text": [
      "\r",
      "t:  23%|███████████████▎                                                   | 111/485 [00:18<01:06,  5.64it/s, now=None]"
     ]
    },
    {
     "name": "stdout",
     "output_type": "stream",
     "text": [
      "\n",
      "reset histrogram"
     ]
    },
    {
     "name": "stderr",
     "output_type": "stream",
     "text": [
      "\r",
      "t:  23%|███████████████▍                                                   | 112/485 [00:19<01:01,  6.05it/s, now=None]"
     ]
    },
    {
     "name": "stdout",
     "output_type": "stream",
     "text": [
      "\n",
      "reset histrogram\n"
     ]
    },
    {
     "name": "stderr",
     "output_type": "stream",
     "text": [
      "t:  24%|███████████████▋                                                   | 114/485 [00:19<00:58,  6.29it/s, now=None]"
     ]
    },
    {
     "name": "stdout",
     "output_type": "stream",
     "text": [
      "reset histrogram\n",
      "reset histrogram\n"
     ]
    },
    {
     "name": "stderr",
     "output_type": "stream",
     "text": [
      "t:  24%|████████████████                                                   | 116/485 [00:19<00:55,  6.70it/s, now=None]"
     ]
    },
    {
     "name": "stdout",
     "output_type": "stream",
     "text": [
      "reset histrogram\n",
      "reset histrogram\n"
     ]
    },
    {
     "name": "stderr",
     "output_type": "stream",
     "text": [
      "t:  24%|████████████████▎                                                  | 118/485 [00:20<00:59,  6.16it/s, now=None]"
     ]
    },
    {
     "name": "stdout",
     "output_type": "stream",
     "text": [
      "reset histrogram\n",
      "reset histrogram\n"
     ]
    },
    {
     "name": "stderr",
     "output_type": "stream",
     "text": [
      "t:  25%|████████████████▌                                                  | 120/485 [00:20<00:59,  6.15it/s, now=None]"
     ]
    },
    {
     "name": "stdout",
     "output_type": "stream",
     "text": [
      "reset histrogram\n",
      "reset histrogram\n"
     ]
    },
    {
     "name": "stderr",
     "output_type": "stream",
     "text": [
      "t:  25%|████████████████▊                                                  | 122/485 [00:20<00:54,  6.62it/s, now=None]"
     ]
    },
    {
     "name": "stdout",
     "output_type": "stream",
     "text": [
      "reset histrogram\n",
      "reset histrogram\n"
     ]
    },
    {
     "name": "stderr",
     "output_type": "stream",
     "text": [
      "t:  42%|████████████████████████████▍                                      | 206/485 [00:39<00:52,  5.28it/s, now=None]"
     ]
    },
    {
     "name": "stdout",
     "output_type": "stream",
     "text": [
      "reset histrogram\n"
     ]
    },
    {
     "name": "stderr",
     "output_type": "stream",
     "text": [
      "t:  43%|████████████████████████████▋                                      | 208/485 [00:39<00:51,  5.38it/s, now=None]"
     ]
    },
    {
     "name": "stdout",
     "output_type": "stream",
     "text": [
      "reset histrogram\n"
     ]
    },
    {
     "name": "stderr",
     "output_type": "stream",
     "text": [
      "t:  44%|█████████████████████████████▌                                     | 214/485 [00:40<00:54,  5.00it/s, now=None]"
     ]
    },
    {
     "name": "stdout",
     "output_type": "stream",
     "text": [
      "reset histrogram\n"
     ]
    },
    {
     "name": "stderr",
     "output_type": "stream",
     "text": [
      "t:  45%|█████████████████████████████▊                                     | 216/485 [00:41<00:52,  5.11it/s, now=None]"
     ]
    },
    {
     "name": "stdout",
     "output_type": "stream",
     "text": [
      "reset histrogram\n"
     ]
    },
    {
     "name": "stderr",
     "output_type": "stream",
     "text": [
      "t:  45%|██████████████████████████████                                     | 218/485 [00:41<01:01,  4.34it/s, now=None]"
     ]
    },
    {
     "name": "stdout",
     "output_type": "stream",
     "text": [
      "reset histrogram\n"
     ]
    },
    {
     "name": "stderr",
     "output_type": "stream",
     "text": [
      "t:  45%|██████████████████████████████▍                                    | 220/485 [00:42<00:50,  5.27it/s, now=None]"
     ]
    },
    {
     "name": "stdout",
     "output_type": "stream",
     "text": [
      "reset histrogram\n"
     ]
    },
    {
     "name": "stderr",
     "output_type": "stream",
     "text": [
      "t:  47%|███████████████████████████████▊                                   | 230/485 [00:43<00:41,  6.18it/s, now=None]"
     ]
    },
    {
     "name": "stdout",
     "output_type": "stream",
     "text": [
      "reset histrogram\n"
     ]
    },
    {
     "name": "stderr",
     "output_type": "stream",
     "text": [
      "t:  48%|████████████████████████████████                                   | 232/485 [00:44<00:46,  5.49it/s, now=None]"
     ]
    },
    {
     "name": "stdout",
     "output_type": "stream",
     "text": [
      "reset histrogram\n"
     ]
    },
    {
     "name": "stderr",
     "output_type": "stream",
     "text": [
      "t:  48%|████████████████████████████████▎                                  | 234/485 [00:44<00:51,  4.84it/s, now=None]"
     ]
    },
    {
     "name": "stdout",
     "output_type": "stream",
     "text": [
      "reset histrogram\n"
     ]
    },
    {
     "name": "stderr",
     "output_type": "stream",
     "text": [
      "t:  49%|█████████████████████████████████                                  | 239/485 [00:45<00:40,  6.06it/s, now=None]"
     ]
    },
    {
     "name": "stdout",
     "output_type": "stream",
     "text": [
      "reset histrogram\n"
     ]
    },
    {
     "name": "stderr",
     "output_type": "stream",
     "text": [
      "t:  51%|██████████████████████████████████▍                                | 249/485 [00:46<00:33,  7.13it/s, now=None]"
     ]
    },
    {
     "name": "stdout",
     "output_type": "stream",
     "text": [
      "reset histrogram\n"
     ]
    },
    {
     "name": "stderr",
     "output_type": "stream",
     "text": [
      "t:  56%|█████████████████████████████████████▎                             | 270/485 [00:49<00:32,  6.68it/s, now=None]"
     ]
    },
    {
     "name": "stdout",
     "output_type": "stream",
     "text": [
      "reset histrogram\n",
      "reset histrogram\n"
     ]
    },
    {
     "name": "stderr",
     "output_type": "stream",
     "text": [
      "t:  56%|█████████████████████████████████████▌                             | 272/485 [00:50<00:30,  7.10it/s, now=None]"
     ]
    },
    {
     "name": "stdout",
     "output_type": "stream",
     "text": [
      "reset histrogram\n"
     ]
    },
    {
     "name": "stderr",
     "output_type": "stream",
     "text": [
      "t:  56%|█████████████████████████████████████▊                             | 274/485 [00:50<00:33,  6.38it/s, now=None]"
     ]
    },
    {
     "name": "stdout",
     "output_type": "stream",
     "text": [
      "reset histrogram\n"
     ]
    },
    {
     "name": "stderr",
     "output_type": "stream",
     "text": [
      "t:  67%|█████████████████████████████████████████████                      | 326/485 [00:59<00:23,  6.84it/s, now=None]"
     ]
    },
    {
     "name": "stdout",
     "output_type": "stream",
     "text": [
      "reset histrogram\n"
     ]
    },
    {
     "name": "stderr",
     "output_type": "stream",
     "text": [
      "t:  84%|████████████████████████████████████████████████████████▌          | 409/485 [01:13<00:11,  6.80it/s, now=None]"
     ]
    },
    {
     "name": "stdout",
     "output_type": "stream",
     "text": [
      "reset histrogram\n"
     ]
    },
    {
     "name": "stderr",
     "output_type": "stream",
     "text": [
      "t:  85%|████████████████████████████████████████████████████████▊          | 411/485 [01:13<00:10,  7.04it/s, now=None]"
     ]
    },
    {
     "name": "stdout",
     "output_type": "stream",
     "text": [
      "reset histrogram\n"
     ]
    },
    {
     "name": "stderr",
     "output_type": "stream",
     "text": [
      "t:  86%|█████████████████████████████████████████████████████████▉         | 419/485 [01:15<00:14,  4.47it/s, now=None]"
     ]
    },
    {
     "name": "stdout",
     "output_type": "stream",
     "text": [
      "reset histrogram\n"
     ]
    },
    {
     "name": "stderr",
     "output_type": "stream",
     "text": [
      "\r",
      "t:  87%|██████████████████████████████████████████████████████████         | 420/485 [01:15<00:13,  4.77it/s, now=None]"
     ]
    },
    {
     "name": "stdout",
     "output_type": "stream",
     "text": [
      "reset histrogram\n"
     ]
    },
    {
     "name": "stderr",
     "output_type": "stream",
     "text": [
      "                                                                                                                       \r"
     ]
    },
    {
     "name": "stdout",
     "output_type": "stream",
     "text": [
      "Moviepy - Done !\n",
      "Moviepy - video ready test_videos_output/challenge_out.mp4\n",
      "Wall time: 1min 29s\n"
     ]
    },
    {
     "data": {
      "text/plain": [
       "\"\\nimg = cv2.imread('test_images/test6.jpg')\\n\\nout=process(img)\\n\\nplt.imshow(out)\\n\""
      ]
     },
     "execution_count": 63,
     "metadata": {},
     "output_type": "execute_result"
    }
   ],
   "source": [
    "\"\"\"\n",
    "img = cv2.imread('camera_Cal/calibration3.jpg')\n",
    "\n",
    "mtx, dist=camera_calibration()\n",
    "\n",
    "M,M_I = corners_unwarp(img, mtx, dist)\n",
    "\n",
    "img2 = cv2.imread('test_images/test2.jpg')\n",
    "    \n",
    "warped=unwarp_image(img2, M)\n",
    "\n",
    "thresolded_img=threshold(warped, s_thresh=(200, 255), sx_thresh=(30, 180))\n",
    "\n",
    "out_img = fit_polynomial(thresolded_img)\n",
    "\n",
    "unwrapped=unwarp_image(out_img,M_I)\n",
    "\n",
    "mixed_img=mix_images (img2, unwrapped, mix=0.8)\n",
    "\n",
    "plt.imshow(mixed_img)\n",
    "\n",
    "\"\"\"\n",
    "\n",
    "#create a variable to know the max number of fails before execute the histogram\n",
    "global maxfail\n",
    "global lmean\n",
    "global frame\n",
    "frame=0\n",
    "\n",
    "lmean=np.ones(720,)\n",
    "global rmean\n",
    "rmean=np.ones(720,)\n",
    "maxfail = 4\n",
    "#Create a object to save the line parametres between procees() executions.\n",
    "\n",
    "Left_line_param=Line()\n",
    "Right_line_param=Line()\n",
    "Count=Line()\n",
    "#in ther first execution of pipeline i must be maxfail to ensure that histogram is executed\n",
    "Count.i=maxfail\n",
    "\n",
    "white_output = 'challenge_out.mp4'\n",
    "## To speed up the testing process you may want to try your pipeline on a shorter subclip of the video\n",
    "## To do so add .subclip(start_second,end_second) to the end of the line below\n",
    "## Where start_second and end_second are integer values representing the start and end of the subclip\n",
    "## You may also uncomment the following line for a subclip of the first 5 seconds\n",
    "##clip1 = VideoFileClip(\"test_videos/solidWhiteRight.mp4\").subclip(0,5)\n",
    "clip1 = VideoFileClip(\"challenge_video.mp4\")\n",
    "white_clip = clip1.fl_image(process) #NOTE: this function expects color images!!\n",
    "%time white_clip.write_videofile(white_output, audio=False)\n",
    "\"\"\"\n",
    "img = cv2.imread('test_images/test6.jpg')\n",
    "\n",
    "out=process(img)\n",
    "\n",
    "plt.imshow(out)\n",
    "\"\"\""
   ]
  },
  {
   "cell_type": "code",
   "execution_count": null,
   "metadata": {},
   "outputs": [],
   "source": []
  },
  {
   "cell_type": "code",
   "execution_count": null,
   "metadata": {},
   "outputs": [],
   "source": []
  }
 ],
 "metadata": {
  "kernelspec": {
   "display_name": "Python 3",
   "language": "python",
   "name": "python3"
  },
  "language_info": {
   "codemirror_mode": {
    "name": "ipython",
    "version": 3
   },
   "file_extension": ".py",
   "mimetype": "text/x-python",
   "name": "python",
   "nbconvert_exporter": "python",
   "pygments_lexer": "ipython3",
   "version": "3.8.5"
  }
 },
 "nbformat": 4,
 "nbformat_minor": 4
}
